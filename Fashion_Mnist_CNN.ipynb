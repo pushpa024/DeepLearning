{
  "nbformat": 4,
  "nbformat_minor": 0,
  "metadata": {
    "colab": {
      "provenance": []
    },
    "kernelspec": {
      "name": "python3",
      "display_name": "Python 3"
    },
    "language_info": {
      "name": "python"
    }
  },
  "cells": [
    {
      "cell_type": "markdown",
      "source": [
        "# **Problem Statement:**\n",
        "\n",
        "Fashion MNIST is a dataset comprising 60,000 training images and 10,000\n",
        "testing images, each depicting various fashion items in a 28x28 grayscale format.\n",
        "The dataset encompasses ten distinct categories of apparel. The primary aim of\n",
        "this assignment is to develop a fully connected neural network (FCNN) that can\n",
        "accurately classify these images into the correct fashion categories."
      ],
      "metadata": {
        "id": "ROuw1mWe1w2b"
      }
    },
    {
      "cell_type": "code",
      "execution_count": 1,
      "metadata": {
        "id": "-zjqMsqL4yLc"
      },
      "outputs": [],
      "source": [
        "from tensorflow.keras.datasets import fashion_mnist\n",
        "import matplotlib.pyplot as plt\n",
        "from tensorflow.keras.utils import to_categorical\n",
        "import numpy as np"
      ]
    },
    {
      "cell_type": "code",
      "source": [
        "(x_train, y_train), (x_test, y_test) = fashion_mnist.load_data()"
      ],
      "metadata": {
        "colab": {
          "base_uri": "https://localhost:8080/"
        },
        "id": "RJNAjXuU5MM8",
        "outputId": "670637cf-f709-4693-fa26-2adcf9fbf5d2"
      },
      "execution_count": 2,
      "outputs": [
        {
          "output_type": "stream",
          "name": "stdout",
          "text": [
            "Downloading data from https://storage.googleapis.com/tensorflow/tf-keras-datasets/train-labels-idx1-ubyte.gz\n",
            "29515/29515 [==============================] - 0s 0us/step\n",
            "Downloading data from https://storage.googleapis.com/tensorflow/tf-keras-datasets/train-images-idx3-ubyte.gz\n",
            "26421880/26421880 [==============================] - 1s 0us/step\n",
            "Downloading data from https://storage.googleapis.com/tensorflow/tf-keras-datasets/t10k-labels-idx1-ubyte.gz\n",
            "5148/5148 [==============================] - 0s 0us/step\n",
            "Downloading data from https://storage.googleapis.com/tensorflow/tf-keras-datasets/t10k-images-idx3-ubyte.gz\n",
            "4422102/4422102 [==============================] - 1s 0us/step\n"
          ]
        }
      ]
    },
    {
      "cell_type": "code",
      "source": [
        "print(x_train.shape)# Images in train\n",
        "print(x_test.shape)\n",
        "print(y_train.shape)# Target variable for train data\n",
        "print(y_test.shape)"
      ],
      "metadata": {
        "colab": {
          "base_uri": "https://localhost:8080/"
        },
        "id": "bThTpp745RwW",
        "outputId": "45336184-9762-4bc8-fcdf-10e1d09f2458"
      },
      "execution_count": 3,
      "outputs": [
        {
          "output_type": "stream",
          "name": "stdout",
          "text": [
            "(60000, 28, 28)\n",
            "(10000, 28, 28)\n",
            "(60000,)\n",
            "(10000,)\n"
          ]
        }
      ]
    },
    {
      "cell_type": "markdown",
      "source": [
        "Label\tDescription\n",
        "0\tT-shirt/top,\n",
        "1\tTrouser,\n",
        "2\tPullover,\n",
        "3\tDress,\n",
        "4\tCoat,\n",
        "5\tSandal,\n",
        "6\tShirt,\n",
        "7\tSneaker,\n",
        "8\tBag,\n",
        "9\tAnkle boot,"
      ],
      "metadata": {
        "id": "yYezUcUN56V0"
      }
    },
    {
      "cell_type": "markdown",
      "source": [
        "\n",
        "# **Objectives:**\n",
        "\n",
        "Data Visualization and Preprocessing :\n",
        "\n",
        "● Visualize the distribution of different fashion items in the dataset to\n",
        "understand the data better.\n",
        "\n",
        "● Normalize the image pixel values for effective model training.\n",
        "\n",
        "● Convert the categorical labels into a one-hot encoded format to suit the\n",
        "neural network's output layer."
      ],
      "metadata": {
        "id": "iEU1v_a12xGu"
      }
    },
    {
      "cell_type": "code",
      "source": [
        "classes = [\"T-shirt/top\",\n",
        "\"Trouser\",\n",
        "\"Pullover\",\n",
        "\"Dress\",\n",
        "\"Coat\",\n",
        "\"Sandal\",\n",
        "\"Shirt\",\n",
        "\"Sneaker\",\n",
        "\"Bag\",\n",
        "\"Ankle boot\"]"
      ],
      "metadata": {
        "id": "6u5faI4h6DwB"
      },
      "execution_count": 4,
      "outputs": []
    },
    {
      "cell_type": "code",
      "source": [
        "n=5000\n",
        "plt.imshow(x_train[n], cmap=\"gray\")\n",
        "plt.title(classes[y_train[n]])\n",
        "plt.show()"
      ],
      "metadata": {
        "colab": {
          "base_uri": "https://localhost:8080/",
          "height": 452
        },
        "id": "CtLC56VO5kSr",
        "outputId": "d32947c5-7672-4d65-b968-a5c00bb43b08"
      },
      "execution_count": 8,
      "outputs": [
        {
          "output_type": "display_data",
          "data": {
            "text/plain": [
              "<Figure size 640x480 with 1 Axes>"
            ],
            "image/png": "[encoded data removed]"
          },
          "metadata": {}
        }
      ]
    },
    {
      "cell_type": "code",
      "source": [
        "y_train_ohe = to_categorical(y_train)\n",
        "y_test_ohe = to_categorical(y_test)"
      ],
      "metadata": {
        "id": "9TYbX_j76vbN"
      },
      "execution_count": 9,
      "outputs": []
    },
    {
      "cell_type": "code",
      "source": [
        "## For CNN's data needs to available in a specific shape\n",
        "\n",
        "'''\n",
        "input_shape = (n, w, h, c)\n",
        "\n",
        "n = number of images\n",
        "w = width\n",
        "h = height\n",
        "c = channels\n",
        "\n",
        "(60000, 28, 28, 1)\n",
        "\n",
        "'''\n",
        "\n",
        "x_train = x_train.reshape(60000, 28, 28, 1).astype(\"float\")\n",
        "x_test = x_test.reshape(10000, 28, 28, 1).astype(\"float\")"
      ],
      "metadata": {
        "id": "MN_95n8x7IKD"
      },
      "execution_count": 10,
      "outputs": []
    },
    {
      "cell_type": "markdown",
      "source": [
        "\n",
        "# **Model Architecture and Development**:\n",
        "\n",
        "● Design a fully connected neural network with appropriate input, hidden,\n",
        "and output layers.\n",
        "\n",
        "● Ensure the model is complex enough to capture the underlying patterns in\n",
        "the data without overfitting."
      ],
      "metadata": {
        "id": "ZzVzcpX71d2n"
      }
    },
    {
      "cell_type": "code",
      "source": [
        "from tensorflow.keras.models import Sequential\n",
        "from tensorflow.keras.layers import Input, Dense, Conv2D, Flatten, MaxPool2D, Activation"
      ],
      "metadata": {
        "id": "tPXhXeBi8G8Q"
      },
      "execution_count": 11,
      "outputs": []
    },
    {
      "cell_type": "code",
      "source": [
        "model = Sequential()\n",
        "model.add(Conv2D(filters = 4, kernel_size=(3,3), strides= (1,1), padding = \"valid\", activation = \"relu\")) # 28x28x1\n",
        "# model.add(Activation(\"relu\")) # 26x26x4 - Added activation function in the conv layer param\n",
        "model.add(MaxPool2D(pool_size = (2,2))) # 13x13x4\n",
        "model.add(Flatten())# 13x13x4 = 676 Units in each image\n",
        "model.add(Dense(10, activation= \"softmax\")) # Output for 10 class classfn"
      ],
      "metadata": {
        "id": "uhuTQgxt75HX"
      },
      "execution_count": 12,
      "outputs": []
    },
    {
      "cell_type": "markdown",
      "source": [
        "# **Model Training:**\n",
        "\n",
        "● Train the model on the preprocessed training data, using categorical\n",
        "cross-entropy as the loss function, stochastic gradient descent as the\n",
        "optimizer, and accuracy as the evaluation metric.\n",
        "\n",
        "● Utilize a validation split to monitor the model's performance on unseen\n",
        "data during training."
      ],
      "metadata": {
        "id": "OE2_5wUh4FB7"
      }
    },
    {
      "cell_type": "code",
      "source": [
        "#model.compile(optimizer=\"adam\",\n",
        "#              loss=\"categorical_crossentropy\",\n",
        " #             metrics=\"accuracy\")\n",
        "\n",
        "model.compile(optimizer=\"SGD\",\n",
        "              loss=\"categorical_crossentropy\",\n",
        "              metrics=\"accuracy\")"
      ],
      "metadata": {
        "id": "vrdVXUSA-A6l"
      },
      "execution_count": 19,
      "outputs": []
    },
    {
      "cell_type": "code",
      "source": [
        "model.fit(x=x_train, y=y_train_ohe, epochs=10, validation_data=(x_test, y_test_ohe), batch_size=1000)"
      ],
      "metadata": {
        "colab": {
          "base_uri": "https://localhost:8080/"
        },
        "id": "Jn9Km1ft-C1K",
        "outputId": "9e0e5a25-e999-4290-f35a-07f5a785101e"
      },
      "execution_count": 24,
      "outputs": [
        {
          "output_type": "stream",
          "name": "stdout",
          "text": [
            "Epoch 1/10\n",
            "60/60 [==============================] - 10s 166ms/step - loss: 0.6017 - accuracy: 0.7915 - val_loss: 0.6214 - val_accuracy: 0.7862\n",
            "Epoch 2/10\n",
            "60/60 [==============================] - 10s 165ms/step - loss: 0.5749 - accuracy: 0.8007 - val_loss: 0.5824 - val_accuracy: 0.8016\n",
            "Epoch 3/10\n",
            "60/60 [==============================] - 9s 143ms/step - loss: 0.5527 - accuracy: 0.8077 - val_loss: 0.5582 - val_accuracy: 0.8098\n",
            "Epoch 4/10\n",
            "60/60 [==============================] - 10s 165ms/step - loss: 0.5365 - accuracy: 0.8122 - val_loss: 0.5449 - val_accuracy: 0.8134\n",
            "Epoch 5/10\n",
            "60/60 [==============================] - 10s 165ms/step - loss: 0.5280 - accuracy: 0.8157 - val_loss: 0.5481 - val_accuracy: 0.8120\n",
            "Epoch 6/10\n",
            "60/60 [==============================] - 10s 166ms/step - loss: 0.5101 - accuracy: 0.8217 - val_loss: 0.5207 - val_accuracy: 0.8183\n",
            "Epoch 7/10\n",
            "60/60 [==============================] - 9s 144ms/step - loss: 0.5053 - accuracy: 0.8225 - val_loss: 0.5237 - val_accuracy: 0.8193\n",
            "Epoch 8/10\n",
            "60/60 [==============================] - 10s 164ms/step - loss: 0.5357 - accuracy: 0.8134 - val_loss: 0.5208 - val_accuracy: 0.8215\n",
            "Epoch 9/10\n",
            "60/60 [==============================] - 10s 163ms/step - loss: 0.4933 - accuracy: 0.8260 - val_loss: 0.5234 - val_accuracy: 0.8196\n",
            "Epoch 10/10\n",
            "60/60 [==============================] - 10s 160ms/step - loss: 0.4886 - accuracy: 0.8276 - val_loss: 0.5098 - val_accuracy: 0.8272\n"
          ]
        },
        {
          "output_type": "execute_result",
          "data": {
            "text/plain": [
              "<keras.src.callbacks.History at 0x7f4941504df0>"
            ]
          },
          "metadata": {},
          "execution_count": 24
        }
      ]
    },
    {
      "cell_type": "code",
      "source": [
        "print(model.summary())"
      ],
      "metadata": {
        "colab": {
          "base_uri": "https://localhost:8080/"
        },
        "id": "gxeRbPL33wlc",
        "outputId": "6482c2ff-ca59-40f7-c976-84968aff9901"
      },
      "execution_count": 25,
      "outputs": [
        {
          "output_type": "stream",
          "name": "stdout",
          "text": [
            "Model: \"sequential\"\n",
            "_________________________________________________________________\n",
            " Layer (type)                Output Shape              Param #   \n",
            "=================================================================\n",
            " conv2d (Conv2D)             (1000, 26, 26, 4)         40        \n",
            "                                                                 \n",
            " max_pooling2d (MaxPooling2  (1000, 13, 13, 4)         0         \n",
            " D)                                                              \n",
            "                                                                 \n",
            " flatten (Flatten)           (1000, 676)               0         \n",
            "                                                                 \n",
            " dense (Dense)               (1000, 10)                6770      \n",
            "                                                                 \n",
            "=================================================================\n",
            "Total params: 6810 (26.60 KB)\n",
            "Trainable params: 6810 (26.60 KB)\n",
            "Non-trainable params: 0 (0.00 Byte)\n",
            "_________________________________________________________________\n",
            "None\n"
          ]
        }
      ]
    },
    {
      "cell_type": "markdown",
      "source": [
        "# **Performance Evaluation:**\n",
        "\n",
        "● Assess the model’s performance using both training and validation\n",
        "datasets.\n",
        "\n",
        "● Visualize the training and validation loss and accuracy to identify any signs\n",
        "of overfitting or underfitting.\n",
        "\n",
        "The best way to detect overfitting and underfitting is to monitor the training and validation errors of your model. The training error is the error that your model makes on the data that it was trained on, while the validation error is the error that your model makes on the data that it was not trained on, but used to evaluate its performance. Ideally, you want both errors to be low and close to each other, indicating that your model is accurate and generalizable. However, if your training error is much lower than your validation error, you have overfitting. If your training error and validation error are both high, or your validation error is lower than your training error, you have underfitting."
      ],
      "metadata": {
        "id": "Spnz471G4n8x"
      }
    },
    {
      "cell_type": "code",
      "source": [
        "history = model.history.history\n",
        "\n",
        "train_loss= history[\"loss\"]\n",
        "val_loss= history[\"val_loss\"]\n",
        "\n",
        "plt.plot(train_loss)\n",
        "plt.plot(val_loss)\n",
        "plt.legend([\"Train\", \"Validation\"])\n",
        "plt.xlabel(\"Epochs\")\n",
        "plt.ylabel(\"Loss\")\n",
        "plt.grid()\n",
        "plt.show()"
      ],
      "metadata": {
        "id": "xU7NG2eD5TEE",
        "colab": {
          "base_uri": "https://localhost:8080/",
          "height": 449
        },
        "outputId": "f53b5f8a-479b-4d68-bf50-1517fa545e68"
      },
      "execution_count": 26,
      "outputs": [
        {
          "output_type": "display_data",
          "data": {
            "text/plain": [
              "<Figure size 640x480 with 1 Axes>"
            ],
            "image/png": "[encoded data removed]"
          },
          "metadata": {}
        }
      ]
    },
    {
      "cell_type": "code",
      "source": [
        "train_acc= history[\"accuracy\"]\n",
        "val_acc= history[\"val_accuracy\"]\n",
        "\n",
        "plt.plot(train_acc)\n",
        "plt.plot(val_acc)\n",
        "plt.ylim(0.5,1.1)\n",
        "plt.legend([\"Train\", \"Validation\"])\n",
        "plt.xlabel(\"Epochs\")\n",
        "plt.ylabel(\"Accuracy\")\n",
        "plt.grid()\n",
        "plt.show()"
      ],
      "metadata": {
        "colab": {
          "base_uri": "https://localhost:8080/",
          "height": 455
        },
        "id": "uZFwdKMLmLM4",
        "outputId": "928183eb-0d6f-437e-ee2b-3a607a49f7ce"
      },
      "execution_count": 27,
      "outputs": [
        {
          "output_type": "display_data",
          "data": {
            "text/plain": [
              "<Figure size 640x480 with 1 Axes>"
            ],
            "image/png": "[encoded data removed]"
          },
          "metadata": {}
        }
      ]
    },
    {
      "cell_type": "markdown",
      "source": [
        "# **Conclusion:**\n",
        "\n",
        "An underfit model is one that is demonstrated to perform well on the training dataset and poor on the test dataset.\n",
        "\n",
        "This can be diagnosed from a plot where the training loss is lower than the validation loss, and the validation loss has a trend that suggests further improvements are possible.\n",
        "In this case, performance may be improved by increasing the number of training epochs.\n",
        "\n",
        "A good fit is a case where the performance of the model is good on both the train and validation sets.\n",
        "\n",
        "This can be diagnosed from a plot where the train and validation loss decrease and stabilize around the same point.\n",
        "\n",
        "An overfit model is one where performance on the train set is good and continues to improve, whereas performance on the validation set improves to a point and then begins to degrade.\n",
        "\n",
        "This can be diagnosed from a plot where the train loss slopes down and the validation loss slopes down, hits an inflection point, and starts to slope up again."
      ],
      "metadata": {
        "id": "VBDa7N2Is732"
      }
    }
  ]
}