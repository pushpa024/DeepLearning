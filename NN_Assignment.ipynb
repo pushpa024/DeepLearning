{
  "nbformat": 4,
  "nbformat_minor": 0,
  "metadata": {
    "colab": {
      "provenance": []
    },
    "kernelspec": {
      "name": "python3",
      "display_name": "Python 3"
    },
    "language_info": {
      "name": "python"
    }
  },
  "cells": [
    {
      "cell_type": "markdown",
      "source": [
        "\n",
        "**Module 2: Introduction\n",
        "to Neural Networks**"
      ],
      "metadata": {
        "id": "nE1hRx_AOY2-"
      }
    },
    {
      "cell_type": "markdown",
      "source": [
        "**Introduction:**\n",
        "Neural networks, primarily known for their applications in classification tasks, can also be employed for regression problems. In this exercise, we aim to\n",
        "demonstrate the usage of a simple neural network in predicting a linear\n",
        "relationship between input features and the output."
      ],
      "metadata": {
        "id": "cX57IABZOSwy"
      }
    },
    {
      "cell_type": "markdown",
      "source": [
        "Objective:\n",
        "The primary objective is to predict the output value y based on two input features\n",
        "x1 and x2 using a basic neural network model with the equation y=3x1+4x2. The\n",
        "neural network will be trained using a feed-forward and back-propagation\n",
        "mechanism to minimize the error between the predicted and actual values."
      ],
      "metadata": {
        "id": "vA2tXYDbOzJP"
      }
    },
    {
      "cell_type": "markdown",
      "source": [
        "Methodology:\n",
        "1. Activation Functions:\n",
        "● Define the sigmoid function, a popular activation function used in neural\n",
        "networks.\n",
        "The sigmoid function is a mathematical function that maps any input value to a value between 0 and 1, making it useful for binary classification and logistic regression problems. The shape of the sigmoid function is often referred to as an “S” shape, as it starts with a slow increase, rapidly approaches 1, and finally levels off.\n",
        "● Define the tanh function, which is another common activation function that\n",
        "returns values between -1 and 1.\n",
        "tanh is also like logistic sigmoid but better. The range of the tanh function is from (-1 to 1). tanh is also sigmoidal (s - shaped). The advantage is that the negative inputs will be mapped strongly negative and the zero inputs will be mapped near zero in the tanh graph.\n",
        "● Define the relu function, which returns positive values as they are and\n",
        "zeroes out negative values\n",
        "It thresholds the input at zero, returning 0 for negative values and the input itself for positive values. For inputs greater than 0, ReLU acts as a linear function with a gradient of 1."
      ],
      "metadata": {
        "id": "qt5jEpxSO6Kw"
      }
    },
    {
      "cell_type": "markdown",
      "source": [
        "2. Sample Data:\n",
        "Use the following sample data for training:\n",
        "x1=3, x2=2, yactual=17\n",
        "\n"
      ],
      "metadata": {
        "id": "jXjbcfOBQMpi"
      }
    },
    {
      "cell_type": "code",
      "execution_count": 4,
      "metadata": {
        "id": "54Rvx8ggWzII"
      },
      "outputs": [],
      "source": [
        "# equation\n",
        "# y = 3x1 + 4x2\n",
        "# x1, x2 are input  & y is the output\n",
        "\n",
        "\n",
        "# x1 | x2 |  y\n",
        "# 3  | 2  | 17\n",
        "# 1  | 1  |  7\n",
        "\n",
        "\n",
        "# building a model which will take input as `x1` & `x2` and will need to learn\n",
        "# and correctly predict the output `y`\n",
        "\n",
        "x1 = 3\n",
        "x2 = 2\n",
        "y_actual = 17"
      ]
    },
    {
      "cell_type": "code",
      "source": [
        "import numpy as np\n",
        "import pandas as pd\n",
        "import matplotlib.pyplot as plt"
      ],
      "metadata": {
        "id": "tlOF8LkpZwK4"
      },
      "execution_count": 1,
      "outputs": []
    },
    {
      "cell_type": "markdown",
      "source": [
        "3. Feed Forward:\n",
        "● Initialize the random weights w1 and w2 between 1 and 10.\n",
        "● Predict the output ypred using the equation ypred= x1 x w1 + x2 x w2\n",
        "Contact us:"
      ],
      "metadata": {
        "id": "kwv1k0x8Q--7"
      }
    },
    {
      "cell_type": "code",
      "source": [
        "# Phase I - Feed Forward Neural Network\n",
        "# 1.1 Assign random weights\n",
        "# 1.2 Affine equation :ypred= x1 x w1 + x2 x w2\n",
        "\n",
        "\n",
        "# Initialize the random weights w1 and w2 between 1 and 10.\n",
        "w1 = np.random.randint(1, 10)\n",
        "w2 = np.random.randint(1, 10)\n",
        "w1, w2"
      ],
      "metadata": {
        "colab": {
          "base_uri": "https://localhost:8080/"
        },
        "id": "pnwEH502ZPoD",
        "outputId": "d447f427-bb1a-44e1-aae7-618208a4047f"
      },
      "execution_count": 2,
      "outputs": [
        {
          "output_type": "execute_result",
          "data": {
            "text/plain": [
              "(8, 6)"
            ]
          },
          "metadata": {},
          "execution_count": 2
        }
      ]
    },
    {
      "cell_type": "code",
      "source": [
        "# 1.2 Affine Equation\n",
        "y_pred = w1*x1 + w2*x2"
      ],
      "metadata": {
        "id": "jMLYPgFyZ7Q7"
      },
      "execution_count": 5,
      "outputs": []
    },
    {
      "cell_type": "code",
      "source": [
        "y_pred"
      ],
      "metadata": {
        "colab": {
          "base_uri": "https://localhost:8080/"
        },
        "id": "XzmfDS6iaFsT",
        "outputId": "ecad5905-6d42-4029-a789-abdb72133b63"
      },
      "execution_count": 6,
      "outputs": [
        {
          "output_type": "execute_result",
          "data": {
            "text/plain": [
              "36"
            ]
          },
          "metadata": {},
          "execution_count": 6
        }
      ]
    },
    {
      "cell_type": "markdown",
      "source": [
        "4. Error Calculation:\n",
        "\n",
        "Compute the squared error as error = (yactual-ypred)*(yactual-ypred)\n"
      ],
      "metadata": {
        "id": "Zc7shNJbRfMK"
      }
    },
    {
      "cell_type": "code",
      "source": [
        "# Phase II - Error Calculation\n",
        "# 2.1 Calculate the error\n",
        "error = (y_pred - y_actual)**2"
      ],
      "metadata": {
        "id": "bW6wZzWnaXDu"
      },
      "execution_count": 7,
      "outputs": []
    },
    {
      "cell_type": "code",
      "source": [
        "error"
      ],
      "metadata": {
        "colab": {
          "base_uri": "https://localhost:8080/"
        },
        "id": "PVyFH2Tha1br",
        "outputId": "d08231a9-6efd-4348-96c4-5c99935bd6a4"
      },
      "execution_count": 8,
      "outputs": [
        {
          "output_type": "execute_result",
          "data": {
            "text/plain": [
              "361"
            ]
          },
          "metadata": {},
          "execution_count": 8
        }
      ]
    },
    {
      "cell_type": "markdown",
      "source": [
        "5. Back Propagation:\n",
        "● Compute the gradients of the error with respect to the weights.\n",
        "● Update the weights using the computed gradients and a learning rate.\n"
      ],
      "metadata": {
        "id": "le9Gbrp2RtSF"
      }
    },
    {
      "cell_type": "code",
      "source": [
        "# Phase III - Back Propagation\n",
        "# 3.1 Calculate the gradients\n",
        "# 3.2 weight updation\n",
        "\n",
        "dedw1 = 2*(y_pred - y_actual)*x1\n",
        "dedw2 = 2*(y_pred - y_actual)*x2"
      ],
      "metadata": {
        "id": "j-OSydAna2if"
      },
      "execution_count": 9,
      "outputs": []
    },
    {
      "cell_type": "code",
      "source": [
        "dedw1, dedw2"
      ],
      "metadata": {
        "colab": {
          "base_uri": "https://localhost:8080/"
        },
        "id": "sG6owbcVdWHX",
        "outputId": "98b0aa74-7027-4fd4-abd0-79363dda4cc1"
      },
      "execution_count": 10,
      "outputs": [
        {
          "output_type": "execute_result",
          "data": {
            "text/plain": [
              "(114, 76)"
            ]
          },
          "metadata": {},
          "execution_count": 10
        }
      ]
    },
    {
      "cell_type": "code",
      "source": [
        "# 3.2 Weight updation\n",
        "w1 = w1 - dedw1\n",
        "w2 = w2 - dedw2"
      ],
      "metadata": {
        "id": "E6oaYMp9daoc"
      },
      "execution_count": 11,
      "outputs": []
    },
    {
      "cell_type": "code",
      "source": [
        "w1, w2"
      ],
      "metadata": {
        "colab": {
          "base_uri": "https://localhost:8080/"
        },
        "id": "3_Z9HjeWdpXc",
        "outputId": "0ed0e77f-ae13-4ce1-dc20-7c11bb52da5e"
      },
      "execution_count": 12,
      "outputs": [
        {
          "output_type": "execute_result",
          "data": {
            "text/plain": [
              "(-106, -70)"
            ]
          },
          "metadata": {},
          "execution_count": 12
        }
      ]
    },
    {
      "cell_type": "code",
      "source": [
        "w1*x1 + w2*x2"
      ],
      "metadata": {
        "colab": {
          "base_uri": "https://localhost:8080/"
        },
        "id": "tFD6lAOpdqkJ",
        "outputId": "256109ce-c8a8-4227-f867-cf4ce4eed5b0"
      },
      "execution_count": 13,
      "outputs": [
        {
          "output_type": "execute_result",
          "data": {
            "text/plain": [
              "-458"
            ]
          },
          "metadata": {},
          "execution_count": 13
        }
      ]
    },
    {
      "cell_type": "markdown",
      "source": [
        "6. Training:\n",
        " The above steps (Feed Forward to Back Propagation) are performed\n",
        "iteratively (20 times in this example) to refine the weights and minimize\n",
        "the error.\n"
      ],
      "metadata": {
        "id": "MgLdTs5ZSLV5"
      }
    },
    {
      "cell_type": "code",
      "source": [
        "x1 = 3\n",
        "x2 = 2\n",
        "y_actual = 17\n",
        "\n",
        "w1 = np.random.randint(1, 10)\n",
        "w2 = np.random.randint(1, 10)\n",
        "\n",
        "y_pred_list = []\n",
        "error_list = []\n",
        "w1_list = []\n",
        "w2_list = []\n",
        "lr = 0.02\n",
        "\n",
        "for epoch in range(1, 20):\n",
        "  # affine equation\n",
        "  y_pred = x1*w1 + x2*w2\n",
        "  y_pred_list.append(y_pred)\n",
        "  w1_list.append(w1)\n",
        "  w2_list.append(w2)\n",
        "\n",
        "  # error calc\n",
        "  error = (y_pred - y_actual)**2\n",
        "  error_list.append(error)\n",
        "\n",
        "  # gradient calc\n",
        "  dedw1 = 2*(y_pred - y_actual)*(x1)\n",
        "  dedw2 = 2*(y_pred - y_actual)*(x2)\n",
        "\n",
        "  # weight updation\n",
        "  w1 = w1 - lr*dedw1\n",
        "  w2 = w2 - lr*dedw2\n",
        "  print(f\"Iteration: {epoch} y_actual: {y_actual} & y_pred: {y_pred}\")"
      ],
      "metadata": {
        "colab": {
          "base_uri": "https://localhost:8080/"
        },
        "id": "URqCasjNeE7l",
        "outputId": "0e25e465-270d-44be-fd7f-d53d8570ddbe"
      },
      "execution_count": 16,
      "outputs": [
        {
          "output_type": "stream",
          "name": "stdout",
          "text": [
            "Iteration: 1 y_actual: 17 & y_pred: 22\n",
            "Iteration: 2 y_actual: 17 & y_pred: 19.400000000000002\n",
            "Iteration: 3 y_actual: 17 & y_pred: 18.152\n",
            "Iteration: 4 y_actual: 17 & y_pred: 17.552960000000002\n",
            "Iteration: 5 y_actual: 17 & y_pred: 17.2654208\n",
            "Iteration: 6 y_actual: 17 & y_pred: 17.127401984\n",
            "Iteration: 7 y_actual: 17 & y_pred: 17.061152952319997\n",
            "Iteration: 8 y_actual: 17 & y_pred: 17.0293534171136\n",
            "Iteration: 9 y_actual: 17 & y_pred: 17.01408964021453\n",
            "Iteration: 10 y_actual: 17 & y_pred: 17.006763027302974\n",
            "Iteration: 11 y_actual: 17 & y_pred: 17.003246253105427\n",
            "Iteration: 12 y_actual: 17 & y_pred: 17.001558201490603\n",
            "Iteration: 13 y_actual: 17 & y_pred: 17.00074793671549\n",
            "Iteration: 14 y_actual: 17 & y_pred: 17.000359009623434\n",
            "Iteration: 15 y_actual: 17 & y_pred: 17.00017232461925\n",
            "Iteration: 16 y_actual: 17 & y_pred: 17.00008271581724\n",
            "Iteration: 17 y_actual: 17 & y_pred: 17.00003970359227\n",
            "Iteration: 18 y_actual: 17 & y_pred: 17.00001905772429\n",
            "Iteration: 19 y_actual: 17 & y_pred: 17.00000914770766\n"
          ]
        }
      ]
    },
    {
      "cell_type": "code",
      "source": [
        "error_list"
      ],
      "metadata": {
        "colab": {
          "base_uri": "https://localhost:8080/"
        },
        "id": "AT7_crhdvKi0",
        "outputId": "39e9e121-e032-48be-f903-58f8de9328b4"
      },
      "execution_count": 17,
      "outputs": [
        {
          "output_type": "execute_result",
          "data": {
            "text/plain": [
              "[25,\n",
              " 5.7600000000000104,\n",
              " 1.3271040000000023,\n",
              " 0.3057647616000026,\n",
              " 0.07044820107264059,\n",
              " 0.016231265527135923,\n",
              " 0.003739683577451821,\n",
              " 0.0008616230962450414,\n",
              " 0.00019851796137486554,\n",
              " 4.573853830076518e-05,\n",
              " 1.0538159224495374e-05,\n",
              " 2.427991885317534e-06,\n",
              " 5.59409330380136e-07,\n",
              " 1.2888790971825683e-07,\n",
              " 2.9695774399576154e-08,\n",
              " 6.841906421544799e-09,\n",
              " 1.576375239275664e-09,\n",
              " 3.6319685515619563e-10,\n",
              " 8.368055546178664e-11]"
            ]
          },
          "metadata": {},
          "execution_count": 17
        }
      ]
    },
    {
      "cell_type": "markdown",
      "source": [
        "7. Visualization:\n",
        "● Plot the progression of the error across epochs.\n",
        "● Plot the progression of ypred across epochs.\n"
      ],
      "metadata": {
        "id": "xXY57bO6THNA"
      }
    },
    {
      "cell_type": "code",
      "source": [
        "plt.figure(figsize=(20, 5))\n",
        "plt.plot(error_list)\n",
        "plt.title(\"Error Graph\")\n",
        "plt.xlabel(\"epochs\")\n",
        "plt.ylabel('error')\n",
        "plt.xticks(np.arange(0, 20))\n",
        "plt.show()"
      ],
      "metadata": {
        "colab": {
          "base_uri": "https://localhost:8080/",
          "height": 376
        },
        "id": "gGZxJ_TIf_fG",
        "outputId": "171dcc05-1719-44c7-a814-e291e4fe1025"
      },
      "execution_count": 18,
      "outputs": [
        {
          "output_type": "display_data",
          "data": {
            "text/plain": [
              "<Figure size 2000x500 with 1 Axes>"
            ],
            "image/png": "[encoded data removed]"
          },
          "metadata": {}
        }
      ]
    },
    {
      "cell_type": "code",
      "source": [],
      "metadata": {
        "id": "SqEu5Q3dTaCu"
      },
      "execution_count": null,
      "outputs": []
    },
    {
      "cell_type": "code",
      "source": [
        "plt.figure(figsize=(20, 5))\n",
        "plt.plot(y_pred_list)\n",
        "plt.title(\"y_pred Graph\")\n",
        "plt.xlabel(\"epochs\")\n",
        "plt.ylabel('y_pred')\n",
        "plt.xticks(np.arange(0, 20))\n",
        "plt.show()"
      ],
      "metadata": {
        "colab": {
          "base_uri": "https://localhost:8080/",
          "height": 376
        },
        "outputId": "ff6f2f9d-a81c-4d0f-baa9-720820c0351a",
        "id": "e-IqSPJiTdj1"
      },
      "execution_count": 19,
      "outputs": [
        {
          "output_type": "display_data",
          "data": {
            "text/plain": [
              "<Figure size 2000x500 with 1 Axes>"
            ],
            "image/png": "[encoded data removed]"
          },
          "metadata": {}
        }
      ]
    },
    {
      "cell_type": "code",
      "source": [
        "error"
      ],
      "metadata": {
        "colab": {
          "base_uri": "https://localhost:8080/"
        },
        "id": "NHosEC1AgYt6",
        "outputId": "973f8c3b-c9d4-4cc2-f3c5-e72d2138d172"
      },
      "execution_count": 20,
      "outputs": [
        {
          "output_type": "execute_result",
          "data": {
            "text/plain": [
              "8.368055546178664e-11"
            ]
          },
          "metadata": {},
          "execution_count": 20
        }
      ]
    },
    {
      "cell_type": "code",
      "source": [],
      "metadata": {
        "id": "AcCLhjSpTXbq"
      },
      "execution_count": null,
      "outputs": []
    },
    {
      "cell_type": "code",
      "source": [
        "plt.subplot(1,2,1)\n",
        "plt.plot(w1_list)\n",
        "\n",
        "plt.subplot(1,2,2)\n",
        "plt.plot(w2_list)"
      ],
      "metadata": {
        "colab": {
          "base_uri": "https://localhost:8080/",
          "height": 447
        },
        "id": "aAEsYdkIhdZK",
        "outputId": "29e4d70a-3b62-4e45-c4de-f1665eb76c6c"
      },
      "execution_count": 21,
      "outputs": [
        {
          "output_type": "execute_result",
          "data": {
            "text/plain": [
              "[<matplotlib.lines.Line2D at 0x7c954107b5b0>]"
            ]
          },
          "metadata": {},
          "execution_count": 21
        },
        {
          "output_type": "display_data",
          "data": {
            "text/plain": [
              "<Figure size 640x480 with 2 Axes>"
            ],
            "image/png": "[encoded data removed]"
          },
          "metadata": {}
        }
      ]
    },
    {
      "cell_type": "markdown",
      "source": [
        "**Expected Outcome:**\n",
        "After sufficient training, the predicted ypred should be close to the actual value yactual=17. The error graph should show a declining trend, indicating that the model is learning and improving its predictions over time."
      ],
      "metadata": {
        "id": "xE2oTsm9VfMW"
      }
    }
  ]
}